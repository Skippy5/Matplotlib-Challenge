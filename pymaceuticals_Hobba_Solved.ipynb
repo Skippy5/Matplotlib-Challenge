{
 "cells": [
  {
   "cell_type": "markdown",
   "metadata": {},
   "source": [
    "## Observations and Insights\n"
   ]
  },
  {
   "cell_type": "code",
   "execution_count": null,
   "metadata": {},
   "outputs": [],
   "source": [
    "# 1 - Capomulin and Ramicane have the lowest mean tumor size, final result, and varience amoung the drug regimens. \n",
    "# 2 - Capomulin and Ramicane also had the most datapoints taken over 45 days, showing more mice made it through the trial. \n",
    "# 3 - Weight and the Size of tumor have a direct correlation of .93 - which is a very high correlation. "
   ]
  },
  {
   "cell_type": "markdown",
   "metadata": {},
   "source": []
  },
  {
   "cell_type": "markdown",
   "metadata": {},
   "source": [
    "## Dependencies and starter code"
   ]
  },
  {
   "cell_type": "code",
   "execution_count": 2,
   "metadata": {},
   "outputs": [
    {
     "data": {
      "text/html": [
       "<div>\n",
       "<style scoped>\n",
       "    .dataframe tbody tr th:only-of-type {\n",
       "        vertical-align: middle;\n",
       "    }\n",
       "\n",
       "    .dataframe tbody tr th {\n",
       "        vertical-align: top;\n",
       "    }\n",
       "\n",
       "    .dataframe thead th {\n",
       "        text-align: right;\n",
       "    }\n",
       "</style>\n",
       "<table border=\"1\" class=\"dataframe\">\n",
       "  <thead>\n",
       "    <tr style=\"text-align: right;\">\n",
       "      <th></th>\n",
       "      <th>Mouse_ID</th>\n",
       "      <th>Drug_Regimen</th>\n",
       "      <th>Sex</th>\n",
       "      <th>Age_months</th>\n",
       "      <th>Weight_(g)</th>\n",
       "      <th>Timepoint</th>\n",
       "      <th>Tumor_Volume_(mm3)</th>\n",
       "      <th>Metastatic_Sites</th>\n",
       "    </tr>\n",
       "  </thead>\n",
       "  <tbody>\n",
       "    <tr>\n",
       "      <th>0</th>\n",
       "      <td>k403</td>\n",
       "      <td>Ramicane</td>\n",
       "      <td>Male</td>\n",
       "      <td>21</td>\n",
       "      <td>16</td>\n",
       "      <td>0</td>\n",
       "      <td>45.000000</td>\n",
       "      <td>0</td>\n",
       "    </tr>\n",
       "    <tr>\n",
       "      <th>1</th>\n",
       "      <td>k403</td>\n",
       "      <td>Ramicane</td>\n",
       "      <td>Male</td>\n",
       "      <td>21</td>\n",
       "      <td>16</td>\n",
       "      <td>5</td>\n",
       "      <td>38.825898</td>\n",
       "      <td>0</td>\n",
       "    </tr>\n",
       "    <tr>\n",
       "      <th>2</th>\n",
       "      <td>k403</td>\n",
       "      <td>Ramicane</td>\n",
       "      <td>Male</td>\n",
       "      <td>21</td>\n",
       "      <td>16</td>\n",
       "      <td>10</td>\n",
       "      <td>35.014271</td>\n",
       "      <td>1</td>\n",
       "    </tr>\n",
       "    <tr>\n",
       "      <th>3</th>\n",
       "      <td>k403</td>\n",
       "      <td>Ramicane</td>\n",
       "      <td>Male</td>\n",
       "      <td>21</td>\n",
       "      <td>16</td>\n",
       "      <td>15</td>\n",
       "      <td>34.223992</td>\n",
       "      <td>1</td>\n",
       "    </tr>\n",
       "    <tr>\n",
       "      <th>4</th>\n",
       "      <td>k403</td>\n",
       "      <td>Ramicane</td>\n",
       "      <td>Male</td>\n",
       "      <td>21</td>\n",
       "      <td>16</td>\n",
       "      <td>20</td>\n",
       "      <td>32.997729</td>\n",
       "      <td>1</td>\n",
       "    </tr>\n",
       "  </tbody>\n",
       "</table>\n",
       "</div>"
      ],
      "text/plain": [
       "  Mouse_ID Drug_Regimen   Sex  Age_months  Weight_(g)  Timepoint  \\\n",
       "0     k403     Ramicane  Male          21          16          0   \n",
       "1     k403     Ramicane  Male          21          16          5   \n",
       "2     k403     Ramicane  Male          21          16         10   \n",
       "3     k403     Ramicane  Male          21          16         15   \n",
       "4     k403     Ramicane  Male          21          16         20   \n",
       "\n",
       "   Tumor_Volume_(mm3)  Metastatic_Sites  \n",
       "0           45.000000                 0  \n",
       "1           38.825898                 0  \n",
       "2           35.014271                 1  \n",
       "3           34.223992                 1  \n",
       "4           32.997729                 1  "
      ]
     },
     "execution_count": 2,
     "metadata": {},
     "output_type": "execute_result"
    }
   ],
   "source": [
    "# Dependencies and Setup\n",
    "import matplotlib.pyplot as plt\n",
    "import pandas as pd\n",
    "import scipy.stats as st\n",
    "import numpy as np\n",
    "\n",
    "# Study data files\n",
    "mouse_metadata = \"data/Mouse_metadata.csv\"\n",
    "study_results = \"data/Study_results.csv\"\n",
    "\n",
    "# Read the mouse data and the study results\n",
    "mouse_metadata = pd.read_csv(mouse_metadata)\n",
    "study_results = pd.read_csv(study_results)\n",
    "\n",
    "# Combine the data into a single dataset\n",
    "merged_df = mouse_metadata.merge(study_results, left_on='Mouse ID', right_on = 'Mouse ID')\n",
    "#Replace spaces in column names with _\n",
    "merged_df.columns = merged_df.columns.str.replace(' ', '_')\n",
    "merged_df.head()"
   ]
  },
  {
   "cell_type": "markdown",
   "metadata": {},
   "source": [
    "## Summary statistics"
   ]
  },
  {
   "cell_type": "code",
   "execution_count": 3,
   "metadata": {},
   "outputs": [
    {
     "data": {
      "text/html": [
       "<div>\n",
       "<style scoped>\n",
       "    .dataframe tbody tr th:only-of-type {\n",
       "        vertical-align: middle;\n",
       "    }\n",
       "\n",
       "    .dataframe tbody tr th {\n",
       "        vertical-align: top;\n",
       "    }\n",
       "\n",
       "    .dataframe thead th {\n",
       "        text-align: right;\n",
       "    }\n",
       "</style>\n",
       "<table border=\"1\" class=\"dataframe\">\n",
       "  <thead>\n",
       "    <tr style=\"text-align: right;\">\n",
       "      <th></th>\n",
       "      <th>Total Trials</th>\n",
       "      <th>Mean</th>\n",
       "      <th>Median</th>\n",
       "      <th>Variance</th>\n",
       "      <th>Standard_Dev</th>\n",
       "      <th>SEM</th>\n",
       "    </tr>\n",
       "    <tr>\n",
       "      <th>Drug_Regimen</th>\n",
       "      <th></th>\n",
       "      <th></th>\n",
       "      <th></th>\n",
       "      <th></th>\n",
       "      <th></th>\n",
       "      <th></th>\n",
       "    </tr>\n",
       "  </thead>\n",
       "  <tbody>\n",
       "    <tr>\n",
       "      <th>Capomulin</th>\n",
       "      <td>230</td>\n",
       "      <td>40.675741</td>\n",
       "      <td>41.557809</td>\n",
       "      <td>24.947764</td>\n",
       "      <td>4.994774</td>\n",
       "      <td>0.329346</td>\n",
       "    </tr>\n",
       "    <tr>\n",
       "      <th>Ceftamin</th>\n",
       "      <td>178</td>\n",
       "      <td>52.591172</td>\n",
       "      <td>51.776157</td>\n",
       "      <td>39.290177</td>\n",
       "      <td>6.268188</td>\n",
       "      <td>0.469821</td>\n",
       "    </tr>\n",
       "    <tr>\n",
       "      <th>Infubinol</th>\n",
       "      <td>178</td>\n",
       "      <td>52.884795</td>\n",
       "      <td>51.820584</td>\n",
       "      <td>43.128684</td>\n",
       "      <td>6.567243</td>\n",
       "      <td>0.492236</td>\n",
       "    </tr>\n",
       "    <tr>\n",
       "      <th>Ketapril</th>\n",
       "      <td>188</td>\n",
       "      <td>55.235638</td>\n",
       "      <td>53.698743</td>\n",
       "      <td>68.553577</td>\n",
       "      <td>8.279709</td>\n",
       "      <td>0.603860</td>\n",
       "    </tr>\n",
       "    <tr>\n",
       "      <th>Naftisol</th>\n",
       "      <td>186</td>\n",
       "      <td>54.331565</td>\n",
       "      <td>52.509285</td>\n",
       "      <td>66.173479</td>\n",
       "      <td>8.134708</td>\n",
       "      <td>0.596466</td>\n",
       "    </tr>\n",
       "    <tr>\n",
       "      <th>Placebo</th>\n",
       "      <td>181</td>\n",
       "      <td>54.033581</td>\n",
       "      <td>52.288934</td>\n",
       "      <td>61.168083</td>\n",
       "      <td>7.821003</td>\n",
       "      <td>0.581331</td>\n",
       "    </tr>\n",
       "    <tr>\n",
       "      <th>Propriva</th>\n",
       "      <td>161</td>\n",
       "      <td>52.322552</td>\n",
       "      <td>50.854632</td>\n",
       "      <td>42.351070</td>\n",
       "      <td>6.507770</td>\n",
       "      <td>0.512884</td>\n",
       "    </tr>\n",
       "    <tr>\n",
       "      <th>Ramicane</th>\n",
       "      <td>228</td>\n",
       "      <td>40.216745</td>\n",
       "      <td>40.673236</td>\n",
       "      <td>23.486704</td>\n",
       "      <td>4.846308</td>\n",
       "      <td>0.320955</td>\n",
       "    </tr>\n",
       "    <tr>\n",
       "      <th>Stelasyn</th>\n",
       "      <td>181</td>\n",
       "      <td>54.233149</td>\n",
       "      <td>52.431737</td>\n",
       "      <td>59.450562</td>\n",
       "      <td>7.710419</td>\n",
       "      <td>0.573111</td>\n",
       "    </tr>\n",
       "    <tr>\n",
       "      <th>Zoniferol</th>\n",
       "      <td>182</td>\n",
       "      <td>53.236507</td>\n",
       "      <td>51.818479</td>\n",
       "      <td>48.533355</td>\n",
       "      <td>6.966589</td>\n",
       "      <td>0.516398</td>\n",
       "    </tr>\n",
       "  </tbody>\n",
       "</table>\n",
       "</div>"
      ],
      "text/plain": [
       "              Total Trials       Mean     Median   Variance  Standard_Dev  \\\n",
       "Drug_Regimen                                                                \n",
       "Capomulin              230  40.675741  41.557809  24.947764      4.994774   \n",
       "Ceftamin               178  52.591172  51.776157  39.290177      6.268188   \n",
       "Infubinol              178  52.884795  51.820584  43.128684      6.567243   \n",
       "Ketapril               188  55.235638  53.698743  68.553577      8.279709   \n",
       "Naftisol               186  54.331565  52.509285  66.173479      8.134708   \n",
       "Placebo                181  54.033581  52.288934  61.168083      7.821003   \n",
       "Propriva               161  52.322552  50.854632  42.351070      6.507770   \n",
       "Ramicane               228  40.216745  40.673236  23.486704      4.846308   \n",
       "Stelasyn               181  54.233149  52.431737  59.450562      7.710419   \n",
       "Zoniferol              182  53.236507  51.818479  48.533355      6.966589   \n",
       "\n",
       "                   SEM  \n",
       "Drug_Regimen            \n",
       "Capomulin     0.329346  \n",
       "Ceftamin      0.469821  \n",
       "Infubinol     0.492236  \n",
       "Ketapril      0.603860  \n",
       "Naftisol      0.596466  \n",
       "Placebo       0.581331  \n",
       "Propriva      0.512884  \n",
       "Ramicane      0.320955  \n",
       "Stelasyn      0.573111  \n",
       "Zoniferol     0.516398  "
      ]
     },
     "execution_count": 3,
     "metadata": {},
     "output_type": "execute_result"
    }
   ],
   "source": [
    "# Generate a summary statistics table of mean, median, variance, standard deviation, and SEM of the tumor volume for each regimen\n",
    "regimen_group = merged_df.groupby('Drug_Regimen')\n",
    "\n",
    "regimen_df = pd.DataFrame({\n",
    "            'Total Trials': regimen_group['Mouse_ID'].count(),\n",
    "            'Mean': regimen_group['Tumor_Volume_(mm3)'].mean(),\n",
    "            'Median': regimen_group['Tumor_Volume_(mm3)'].median(),\n",
    "            'Variance': regimen_group['Tumor_Volume_(mm3)'].var(),\n",
    "            'Standard_Dev': regimen_group['Tumor_Volume_(mm3)'].std(),\n",
    "            'SEM': regimen_group['Tumor_Volume_(mm3)'].sem()\n",
    "            })\n",
    "\n",
    "regimen_df"
   ]
  },
  {
   "cell_type": "markdown",
   "metadata": {},
   "source": [
    "## Bar plots"
   ]
  },
  {
   "cell_type": "code",
   "execution_count": 5,
   "metadata": {
    "scrolled": true
   },
   "outputs": [
    {
     "data": {
      "image/png": "[encoded data removed]",
      "text/plain": [
       "<Figure size 720x288 with 1 Axes>"
      ]
     },
     "metadata": {
      "needs_background": "light"
     },
     "output_type": "display_data"
    }
   ],
   "source": [
    "# Generate a bar plot showing number of data points for each treatment regimen using pandas\n",
    "regimen_counts_df = pd.DataFrame({\n",
    "            'Count of Drug Regimen': regimen_group['Mouse_ID'].count()\n",
    "            })\n",
    "\n",
    "\n",
    "regimen_counts_df.plot(kind='bar', \n",
    "                       title='Measurments taken per Regimen',\n",
    "                       legend=False, \n",
    "                       figsize = (10,4)\n",
    "                      )\n",
    "plt.show()"
   ]
  },
  {
   "cell_type": "code",
   "execution_count": 6,
   "metadata": {},
   "outputs": [
    {
     "data": {
      "image/png": "[encoded data removed]",
      "text/plain": [
       "<Figure size 720x288 with 1 Axes>"
      ]
     },
     "metadata": {
      "needs_background": "light"
     },
     "output_type": "display_data"
    }
   ],
   "source": [
    "# Generate a bar plot showing number of data points for each treatment regimen using pyplot\n",
    "regimen_counts = regimen_group['Mouse_ID'].count()\n",
    "x_axis = np.arange(len(regimen_counts))\n",
    "regimen_ticks = [value for value in x_axis]\n",
    "\n",
    "fig = plt.figure(figsize = (10,4))\n",
    "plt.title(\"Measurments taken per Regimen\", fontsize=12)\n",
    "plt.xlabel(\"Drug_Regimen\", fontsize=12)\n",
    "\n",
    "plt.bar(x_axis,regimen_counts, width = .5)\n",
    "plt.xticks(regimen_ticks, regimen_counts.index.values, fontsize=10, rotation=90)\n",
    "plt.show()"
   ]
  },
  {
   "cell_type": "markdown",
   "metadata": {},
   "source": [
    "## Pie plots"
   ]
  },
  {
   "cell_type": "code",
   "execution_count": 7,
   "metadata": {},
   "outputs": [
    {
     "data": {
      "image/png": "[encoded data removed]",
      "text/plain": [
       "<Figure size 432x288 with 1 Axes>"
      ]
     },
     "metadata": {},
     "output_type": "display_data"
    }
   ],
   "source": [
    "# Generate a pie plot showing the distribution of female versus male mice using pandas\n",
    "gender_group = merged_df.groupby('Sex')\n",
    "\n",
    "gender_group_df = pd.DataFrame({\n",
    "            'Count': gender_group['Mouse_ID'].count()\n",
    "            })\n",
    "\n",
    "gender_group_df.plot(y='Count', \n",
    "                     kind='pie', \n",
    "                     autopct='%1.1f%%', \n",
    "                     shadow=True, \n",
    "                     startangle=60,\n",
    "                     title='Sampling Percentage by Sex', \n",
    "                     legend=False)\n",
    "plt.show()"
   ]
  },
  {
   "cell_type": "code",
   "execution_count": 8,
   "metadata": {},
   "outputs": [
    {
     "data": {
      "image/png": "[encoded data removed]",
      "text/plain": [
       "<Figure size 432x288 with 1 Axes>"
      ]
     },
     "metadata": {},
     "output_type": "display_data"
    }
   ],
   "source": [
    "# Generate a pie plot showing the distribution of female versus male mice using pyplot\n",
    "gender_counts = pd.DataFrame(merged_df.groupby('Sex').count()).reset_index()\n",
    "\n",
    "plt.title(\"Sampling Percentage by Sex\", fontsize=12)\n",
    "plt.pie(gender_counts['Mouse_ID'], \n",
    "        autopct=\"%1.1f%%\", \n",
    "        labels=gender_counts['Sex'],\n",
    "        shadow=True, \n",
    "        startangle=60)\n",
    "plt.axis('equal')\n",
    "\n",
    "plt.show()"
   ]
  },
  {
   "cell_type": "code",
   "execution_count": 9,
   "metadata": {
    "scrolled": true
   },
   "outputs": [
    {
     "data": {
      "image/png": "[encoded data removed]",
      "text/plain": [
       "<Figure size 432x288 with 1 Axes>"
      ]
     },
     "metadata": {},
     "output_type": "display_data"
    }
   ],
   "source": [
    "# Added this because I was not sure if you wanted the breakdown by mice in the trail or how many were\n",
    "# in the sampling. Need to better define and ask questions\n",
    "gender_counts = pd.DataFrame(mouse_metadata.groupby('Sex').count()).reset_index()\n",
    "colors = [\"pink\",\"lightblue\"]\n",
    "\n",
    "plt.title(\"Mice in Trails by Sex\", fontsize=20)\n",
    "plt.pie(gender_counts['Mouse ID'], \n",
    "        autopct=\"%1.1f%%\", \n",
    "        labels=gender_counts['Sex'],\n",
    "        colors=colors, \n",
    "        shadow=True, \n",
    "        startangle=60)\n",
    "plt.axis('equal')\n",
    "\n",
    "plt.show()"
   ]
  },
  {
   "cell_type": "markdown",
   "metadata": {},
   "source": [
    "## Quartiles, outliers and boxplots"
   ]
  },
  {
   "cell_type": "code",
   "execution_count": 10,
   "metadata": {},
   "outputs": [],
   "source": [
    "#This section is to set up to display the results in the next secion\n",
    "\n",
    "#Create Dataframe with only the listed as the most promising drugs\n",
    "Promising_Regimens = [\"Capomulin\", \"Ramicane\", \"Infubinol\", \"Ceftamin\"]\n",
    "Promising_Regimens_df = merged_df[merged_df[\"Drug_Regimen\"].isin(Promising_Regimens)]\n",
    "\n",
    "#Creates a new clean dataframe with only columns wanted for analysis\n",
    "Promising_Regimens_clean_df = Promising_Regimens_df[[\"Drug_Regimen\", \"Mouse_ID\", \"Timepoint\", \"Tumor_Volume_(mm3)\"]]"
   ]
  },
  {
   "cell_type": "code",
   "execution_count": 11,
   "metadata": {},
   "outputs": [
    {
     "data": {
      "text/html": [
       "<div>\n",
       "<style scoped>\n",
       "    .dataframe tbody tr th:only-of-type {\n",
       "        vertical-align: middle;\n",
       "    }\n",
       "\n",
       "    .dataframe tbody tr th {\n",
       "        vertical-align: top;\n",
       "    }\n",
       "\n",
       "    .dataframe thead th {\n",
       "        text-align: right;\n",
       "    }\n",
       "</style>\n",
       "<table border=\"1\" class=\"dataframe\">\n",
       "  <thead>\n",
       "    <tr style=\"text-align: right;\">\n",
       "      <th></th>\n",
       "      <th>Drug_Regimen</th>\n",
       "      <th>Mouse_ID</th>\n",
       "      <th>Timepoint</th>\n",
       "      <th>Tumor_Volume_(mm3)</th>\n",
       "    </tr>\n",
       "  </thead>\n",
       "  <tbody>\n",
       "    <tr>\n",
       "      <th>1872</th>\n",
       "      <td>Infubinol</td>\n",
       "      <td>z581</td>\n",
       "      <td>45</td>\n",
       "      <td>62.754451</td>\n",
       "    </tr>\n",
       "    <tr>\n",
       "      <th>800</th>\n",
       "      <td>Infubinol</td>\n",
       "      <td>e476</td>\n",
       "      <td>45</td>\n",
       "      <td>62.435404</td>\n",
       "    </tr>\n",
       "    <tr>\n",
       "      <th>154</th>\n",
       "      <td>Ramicane</td>\n",
       "      <td>c758</td>\n",
       "      <td>45</td>\n",
       "      <td>33.397653</td>\n",
       "    </tr>\n",
       "    <tr>\n",
       "      <th>440</th>\n",
       "      <td>Capomulin</td>\n",
       "      <td>i557</td>\n",
       "      <td>45</td>\n",
       "      <td>47.685963</td>\n",
       "    </tr>\n",
       "    <tr>\n",
       "      <th>144</th>\n",
       "      <td>Capomulin</td>\n",
       "      <td>m957</td>\n",
       "      <td>45</td>\n",
       "      <td>33.329098</td>\n",
       "    </tr>\n",
       "    <tr>\n",
       "      <th>...</th>\n",
       "      <td>...</td>\n",
       "      <td>...</td>\n",
       "      <td>...</td>\n",
       "      <td>...</td>\n",
       "    </tr>\n",
       "    <tr>\n",
       "      <th>1205</th>\n",
       "      <td>Infubinol</td>\n",
       "      <td>m756</td>\n",
       "      <td>5</td>\n",
       "      <td>47.010364</td>\n",
       "    </tr>\n",
       "    <tr>\n",
       "      <th>1743</th>\n",
       "      <td>Ceftamin</td>\n",
       "      <td>x226</td>\n",
       "      <td>0</td>\n",
       "      <td>45.000000</td>\n",
       "    </tr>\n",
       "    <tr>\n",
       "      <th>594</th>\n",
       "      <td>Ceftamin</td>\n",
       "      <td>b447</td>\n",
       "      <td>0</td>\n",
       "      <td>45.000000</td>\n",
       "    </tr>\n",
       "    <tr>\n",
       "      <th>1551</th>\n",
       "      <td>Ceftamin</td>\n",
       "      <td>t573</td>\n",
       "      <td>0</td>\n",
       "      <td>45.000000</td>\n",
       "    </tr>\n",
       "    <tr>\n",
       "      <th>1583</th>\n",
       "      <td>Ceftamin</td>\n",
       "      <td>u153</td>\n",
       "      <td>0</td>\n",
       "      <td>45.000000</td>\n",
       "    </tr>\n",
       "  </tbody>\n",
       "</table>\n",
       "<p>100 rows × 4 columns</p>\n",
       "</div>"
      ],
      "text/plain": [
       "     Drug_Regimen Mouse_ID  Timepoint  Tumor_Volume_(mm3)\n",
       "1872    Infubinol     z581         45           62.754451\n",
       "800     Infubinol     e476         45           62.435404\n",
       "154      Ramicane     c758         45           33.397653\n",
       "440     Capomulin     i557         45           47.685963\n",
       "144     Capomulin     m957         45           33.329098\n",
       "...           ...      ...        ...                 ...\n",
       "1205    Infubinol     m756          5           47.010364\n",
       "1743     Ceftamin     x226          0           45.000000\n",
       "594      Ceftamin     b447          0           45.000000\n",
       "1551     Ceftamin     t573          0           45.000000\n",
       "1583     Ceftamin     u153          0           45.000000\n",
       "\n",
       "[100 rows x 4 columns]"
      ]
     },
     "execution_count": 11,
     "metadata": {},
     "output_type": "execute_result"
    }
   ],
   "source": [
    "# Part 1\n",
    "# \n",
    "# Calculate the final tumor volume of each mouse across four of the most promising treatment regimens.\n",
    "\n",
    "# Create Sorted dataframe in descending order by timepoint\n",
    "Promising_Regimens_clean_sorted = Promising_Regimens_clean_df.sort_values(\"Timepoint\", ascending=False)\n",
    "\n",
    "# Remove values in dataframe and only keep the first listed Mouse_ID\n",
    "Promising_Regimens_last_result = Promising_Regimens_clean_sorted.drop_duplicates(subset =\"Mouse_ID\", keep='first' )\n",
    "\n",
    "#Display results\n",
    "Promising_Regimens_last_result"
   ]
  },
  {
   "cell_type": "code",
   "execution_count": 12,
   "metadata": {},
   "outputs": [
    {
     "name": "stdout",
     "output_type": "stream",
     "text": [
      "The lower quartile of the final tumor volume is: 37.187743802499995\n",
      "The upper quartile of the final tumor volume is: 59.930261755000004\n",
      "The interquartile range of the final tumor volume is: 22.74251795250001\n",
      "There are 3.0739668737499812 lower limit.\n",
      "There are 94.04403868375002 upper limit.\n",
      "There are 0 outliers in the dataset.\n"
     ]
    }
   ],
   "source": [
    "# Part 2\n",
    "# \n",
    "# Calculate the IQR and quantitatively determine if there are any potential outliers. \n",
    "Final_Tumor_Results = Promising_Regimens_last_result['Tumor_Volume_(mm3)']\n",
    "\n",
    "quartiles = Final_Tumor_Results.quantile([.25,.5,.75])\n",
    "lowerq = quartiles[0.25]\n",
    "upperq = quartiles[0.75]\n",
    "iqr = upperq-lowerq\n",
    "\n",
    "print(f\"The lower quartile of the final tumor volume is: {lowerq}\")\n",
    "print(f\"The upper quartile of the final tumor volume is: {upperq}\")\n",
    "print(f\"The interquartile range of the final tumor volume is: {iqr}\")\n",
    "\n",
    "lower_bound = lowerq - (1.5*iqr)\n",
    "upper_bound = upperq + (1.5*iqr)\n",
    "\n",
    "lower_outliers = Final_Tumor_Results[Final_Tumor_Results < lower_bound].count()\n",
    "upper_outliers = Final_Tumor_Results[Final_Tumor_Results > upper_bound].count()\n",
    "total_outliers = lower_outliers + upper_outliers\n",
    "\n",
    "print(f\"There are {lower_bound} lower limit.\")\n",
    "print(f\"There are {upper_bound} upper limit.\")\n",
    "print(f\"There are {total_outliers} outliers in the dataset.\")"
   ]
  },
  {
   "cell_type": "code",
   "execution_count": 14,
   "metadata": {},
   "outputs": [],
   "source": [
    "#Create dataframe of each Drug Regimen for anlaysis\n",
    "inf_df = Promising_Regimens_last_result.loc[Promising_Regimens_last_result[\"Drug_Regimen\"] == \"Infubinol\"][\"Tumor_Volume_(mm3)\"]\n",
    "cap_df = Promising_Regimens_last_result.loc[Promising_Regimens_last_result[\"Drug_Regimen\"] == \"Capomulin\"][\"Tumor_Volume_(mm3)\"]\n",
    "ram_df = Promising_Regimens_last_result.loc[Promising_Regimens_last_result[\"Drug_Regimen\"] == \"Ramicane\"][\"Tumor_Volume_(mm3)\"]\n",
    "cef_df = Promising_Regimens_last_result.loc[Promising_Regimens_last_result[\"Drug_Regimen\"] == \"Ceftamin\"][\"Tumor_Volume_(mm3)\"]"
   ]
  },
  {
   "cell_type": "code",
   "execution_count": 15,
   "metadata": {},
   "outputs": [
    {
     "name": "stdout",
     "output_type": "stream",
     "text": [
      "The lower quartile of the Infubinol trials is: 54.04860769\n",
      "The upper quartile of the Infubinol trials is: 65.52574285\n",
      "The interquartile range of the Infubinol trials is: 11.477135160000003\n",
      "There are 1 outliers in the Infubinol trials.\n"
     ]
    }
   ],
   "source": [
    "# Calculate the IQR and quantitatively determine if there are any potential outliers. \n",
    "quartiles_inf = inf_df.quantile([.25,.5,.75])\n",
    "lowerq_inf = quartiles_inf[0.25]\n",
    "upperq_inf = quartiles_inf[0.75]\n",
    "iqr_inf = upperq_inf-lowerq_inf\n",
    "\n",
    "print(f\"The lower quartile of the Infubinol trials is: {lowerq_inf}\")\n",
    "print(f\"The upper quartile of the Infubinol trials is: {upperq_inf}\")\n",
    "print(f\"The interquartile range of the Infubinol trials is: {iqr_inf}\")\n",
    "\n",
    "lower_bound_inf = lowerq_inf - (1.5*iqr_inf)\n",
    "upper_bound_inf = upperq_inf + (1.5*iqr_inf)\n",
    "\n",
    "lower_outliers_inf = inf_df[inf_df < lower_bound_inf].count()\n",
    "upper_outliers_inf = inf_df[inf_df > upper_bound_inf].count()\n",
    "total_outliers_inf = lower_outliers_inf + upper_outliers_inf\n",
    "\n",
    "print(f\"There are {total_outliers_inf} outliers in the Infubinol trials.\")"
   ]
  },
  {
   "cell_type": "code",
   "execution_count": 16,
   "metadata": {},
   "outputs": [
    {
     "name": "stdout",
     "output_type": "stream",
     "text": [
      "The lower quartile of the Capomulin trials is: 32.37735684\n",
      "The upper quartile of the Capomulin trials is: 40.1592203\n",
      "The interquartile range of the Capomulin trials is: 7.781863460000004\n",
      "There are 0 outliers in the Capomulin trials.\n"
     ]
    }
   ],
   "source": [
    "# Calculate the IQR and quantitatively determine if there are any potential outliers. \n",
    "quartiles_cap = cap_df.quantile([.25,.5,.75])\n",
    "lowerq_cap = quartiles_cap[0.25]\n",
    "upperq_cap = quartiles_cap[0.75]\n",
    "iqr_cap = upperq_cap-lowerq_cap\n",
    "\n",
    "print(f\"The lower quartile of the Capomulin trials is: {lowerq_cap}\")\n",
    "print(f\"The upper quartile of the Capomulin trials is: {upperq_cap}\")\n",
    "print(f\"The interquartile range of the Capomulin trials is: {iqr_cap}\")\n",
    "\n",
    "lower_bound_cap = lowerq_cap - (1.5*iqr_cap)\n",
    "upper_bound_cap = upperq_cap + (1.5*iqr_cap)\n",
    "\n",
    "lower_outliers_cap = cap_df[cap_df < lower_bound_cap].count()\n",
    "upper_outliers_cap = cap_df[cap_df > upper_bound_cap].count()\n",
    "total_outliers_cap = lower_outliers_cap + upper_outliers_cap\n",
    "\n",
    "print(f\"There are {total_outliers_cap} outliers in the Capomulin trials.\")"
   ]
  },
  {
   "cell_type": "code",
   "execution_count": 17,
   "metadata": {},
   "outputs": [
    {
     "name": "stdout",
     "output_type": "stream",
     "text": [
      "The lower quartile of the Ramicane trials is: 31.56046955\n",
      "The upper quartile of the Ramicane trials is: 40.65900627\n",
      "The interquartile range of the Ramicane trials is: 9.098536719999998\n",
      "There are 0 outliers in the Ramicane trials.\n"
     ]
    }
   ],
   "source": [
    "# Calculate the IQR and quantitatively determine if there are any potential outliers. \n",
    "quartiles_ram = ram_df.quantile([.25,.5,.75])\n",
    "lowerq_ram = quartiles_ram[0.25]\n",
    "upperq_ram = quartiles_ram[0.75]\n",
    "iqr_ram = upperq_ram-lowerq_ram\n",
    "\n",
    "print(f\"The lower quartile of the Ramicane trials is: {lowerq_ram}\")\n",
    "print(f\"The upper quartile of the Ramicane trials is: {upperq_ram}\")\n",
    "print(f\"The interquartile range of the Ramicane trials is: {iqr_ram}\")\n",
    "\n",
    "lower_bound_ram = lowerq_ram - (1.5*iqr_ram)\n",
    "upper_bound_ram = upperq_ram + (1.5*iqr_ram)\n",
    "\n",
    "lower_outliers_ram = ram_df[ram_df < lower_bound_ram].count()\n",
    "upper_outliers_ram = ram_df[ram_df > upper_bound_ram].count()\n",
    "total_outliers_ram = lower_outliers_ram + upper_outliers_ram\n",
    "\n",
    "print(f\"There are {total_outliers_ram} outliers in the Ramicane trials.\")"
   ]
  },
  {
   "cell_type": "code",
   "execution_count": 18,
   "metadata": {},
   "outputs": [
    {
     "name": "stdout",
     "output_type": "stream",
     "text": [
      "The lower quartile of the Ceftamin trials is: 48.72207785\n",
      "The upper quartile of the Ceftamin trials is: 64.29983003\n",
      "The interquartile range of the Ceftamin trials is: 15.577752179999997\n",
      "There are 0 outliers in the Ceftamin trials.\n"
     ]
    }
   ],
   "source": [
    "# Calculate the IQR and quantitatively determine if there are any potential outliers. \n",
    "quartiles_cef = cef_df.quantile([.25,.5,.75])\n",
    "lowerq_cef = quartiles_cef[0.25]\n",
    "upperq_cef = quartiles_cef[0.75]\n",
    "iqr_cef = upperq_cef-lowerq_cef\n",
    "\n",
    "print(f\"The lower quartile of the Ceftamin trials is: {lowerq_cef}\")\n",
    "print(f\"The upper quartile of the Ceftamin trials is: {upperq_cef}\")\n",
    "print(f\"The interquartile range of the Ceftamin trials is: {iqr_cef}\")\n",
    "\n",
    "lower_bound_cef = lowerq_cef - (1.5*iqr_cef)\n",
    "upper_bound_cef = upperq_cef + (1.5*iqr_cef)\n",
    "\n",
    "lower_outliers_cef = cef_df[cef_df < lower_bound_cef].count()\n",
    "upper_outliers_cef = cef_df[cef_df > upper_bound_cef].count()\n",
    "total_outliers_cef = lower_outliers_cef + upper_outliers_cef\n",
    "\n",
    "print(f\"There are {total_outliers_cef} outliers in the Ceftamin trials.\")"
   ]
  },
  {
   "cell_type": "code",
   "execution_count": 19,
   "metadata": {},
   "outputs": [
    {
     "data": {
      "image/png": "[encoded data removed]",
      "text/plain": [
       "<Figure size 432x288 with 1 Axes>"
      ]
     },
     "metadata": {
      "needs_background": "light"
     },
     "output_type": "display_data"
    }
   ],
   "source": [
    "# Generate a box plot of the final tumor volume of each mouse across four regimens of interest\n",
    "fig1, ax1 = plt.subplots()\n",
    "ax1.set_title('Regimen End Results (top four)')\n",
    "ax1.set_ylabel('Tumor Size at end of trial')\n",
    "plt.boxplot([cap_df,ram_df,inf_df,cef_df], labels =Promising_Regimens)\n",
    "plt.show() \n"
   ]
  },
  {
   "cell_type": "markdown",
   "metadata": {},
   "source": [
    "## Line and scatter plots"
   ]
  },
  {
   "cell_type": "code",
   "execution_count": 20,
   "metadata": {},
   "outputs": [
    {
     "data": {
      "text/plain": [
       "[<matplotlib.lines.Line2D at 0x227b277bb80>]"
      ]
     },
     "execution_count": 20,
     "metadata": {},
     "output_type": "execute_result"
    },
    {
     "data": {
      "image/png": "[encoded data removed]",
      "text/plain": [
       "<Figure size 432x288 with 1 Axes>"
      ]
     },
     "metadata": {
      "needs_background": "light"
     },
     "output_type": "display_data"
    }
   ],
   "source": [
    "# Generate a line plot of time point versus tumor volume for a mouse treated with Capomulin\n",
    "# Looked at excel to determine a mouse that had all data points and was part of the Cap trial\n",
    "Mouse_Num = [\"b128\"]\n",
    "Mouse_Trial_Result = Promising_Regimens_clean_sorted[Promising_Regimens_clean_sorted[\"Mouse_ID\"].isin(Mouse_Num)]\n",
    "\n",
    "plt.title(\"Tumor Volume Over Time\", fontsize=20)\n",
    "plt.xlabel(\"Day\", fontsize=10)\n",
    "plt.ylabel(\"Tumor Volume\", fontsize=10)\n",
    "\n",
    "plt.plot(Mouse_Trial_Result[\"Timepoint\"],Mouse_Trial_Result[\"Tumor_Volume_(mm3)\"])"
   ]
  },
  {
   "cell_type": "code",
   "execution_count": 21,
   "metadata": {},
   "outputs": [
    {
     "data": {
      "image/png": "[encoded data removed]",
      "text/plain": [
       "<Figure size 432x288 with 1 Axes>"
      ]
     },
     "metadata": {
      "needs_background": "light"
     },
     "output_type": "display_data"
    }
   ],
   "source": [
    "# Generate a scatter plot of mouse weight versus average tumor volume for the Capomulin regimen\n",
    "Weight_Vol_Trial_Drug = [\"Capomulin\"]\n",
    "Weight_Vol_Trial_Result = merged_df[merged_df[\"Drug_Regimen\"].isin(Weight_Vol_Trial_Drug)]\n",
    "\n",
    "#Weight_Trial = Weight_Vol_Trial_Result.Weight_(g).unique()\n",
    "Weight_Trial = merged_df.loc[merged_df[\"Drug_Regimen\"] == \"Capomulin\"][\"Weight_(g)\"].unique()\n",
    "\n",
    "\n",
    "#Average Turmor Volume\n",
    "Avg_Turmor_Trial = Weight_Vol_Trial_Result.groupby(Weight_Vol_Trial_Result[\"Weight_(g)\"])[\"Tumor_Volume_(mm3)\"].mean()\n",
    "\n",
    "\n",
    "plt.title(\"Mouse Weight to Tumor Volume\", fontsize=20)\n",
    "plt.xlabel(\"Mouse Weight\", fontsize=10)\n",
    "plt.ylabel(\"Volume of Tumor\", fontsize=10)\n",
    "plt.scatter(Weight_Trial,Avg_Turmor_Trial)\n",
    "\n",
    "plt.show()\n",
    "\n"
   ]
  },
  {
   "cell_type": "code",
   "execution_count": 22,
   "metadata": {},
   "outputs": [
    {
     "data": {
      "image/png": "[encoded data removed]",
      "text/plain": [
       "<Figure size 432x288 with 1 Axes>"
      ]
     },
     "metadata": {
      "needs_background": "light"
     },
     "output_type": "display_data"
    },
    {
     "name": "stdout",
     "output_type": "stream",
     "text": [
      "The correlation between Mouse Weight and Tumor Volume is 0.93\n"
     ]
    }
   ],
   "source": [
    "# Calculate the correlation coefficient and linear regression model for mouse weight and average tumor volume for the Capomulin regimen\n",
    "correlation = st.pearsonr(Weight_Trial,Avg_Turmor_Trial)\n",
    "\n",
    "(slope, intercept, rvalue, pvalue, stderr) = st.linregress(Weight_Trial, Avg_Turmor_Trial)\n",
    "regress_values = Weight_Trial * slope + intercept\n",
    "line_eq = \"y = \" + str(round(slope,2)) + \"x + \" + str(round(intercept,2))\n",
    "\n",
    "plt.title(\"Mouse Weight to Tumor Volume\", fontsize=20)\n",
    "plt.xlabel(\"Mouse Weight\", fontsize=10)\n",
    "plt.ylabel(\"Volume of Tumor\", fontsize=10)\n",
    "plt.plot(Weight_Trial,regress_values,\"r-\")\n",
    "plt.annotate(line_eq,(20,40),fontsize=15,color=\"red\")\n",
    "plt.scatter(Weight_Trial,Avg_Turmor_Trial)\n",
    "\n",
    "plt.show()\n",
    "print(f\"The correlation between Mouse Weight and Tumor Volume is {round(correlation[0],2)}\")\n"
   ]
  }
 ],
 "metadata": {
  "anaconda-cloud": {},
  "kernelspec": {
   "display_name": "Python 3.8.1 64-bit ('BootCamp1': conda)",
   "language": "python",
   "name": "python38164bitbootcamp1condaaa30332a9e094a7f8241b98b0741e6a2"
  },
  "language_info": {
   "codemirror_mode": {
    "name": "ipython",
    "version": 3
   },
   "file_extension": ".py",
   "mimetype": "text/x-python",
   "name": "python",
   "nbconvert_exporter": "python",
   "pygments_lexer": "ipython3",
   "version": "3.8.1"
  }
 },
 "nbformat": 4,
 "nbformat_minor": 2
}
